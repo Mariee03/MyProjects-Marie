{
  "nbformat": 4,
  "nbformat_minor": 0,
  "metadata": {
    "colab": {
      "provenance": []
    },
    "kernelspec": {
      "name": "python3",
      "display_name": "Python 3"
    },
    "language_info": {
      "name": "python"
    }
  },
  "cells": [
    {
      "cell_type": "markdown",
      "source": [
        "**Dataset information:**\n",
        "The dataset contains reviews about an amusement park, written down by 42656 visitors. The following fields are available:\n",
        "1. ReviewID, numeric and distinct code;\n",
        "2. Rating, ranging from 1 (unsatisfied) to 5 (satisfied);\n",
        "3. YearMonth, string, e.g. 2023-12. When the reviewer visited the theme park;\n",
        "4. ReviewerLocation, string, country of origin of visitor;\n",
        "5. ReviewText, text. The whole text of the visitor review;\n",
        "6. Branch, string, which branch of the park. It has three branches.\n",
        "Mean and maximum length of field ReviewText is 129.7 and 3963 words, respectively.\n",
        "The purpose of the project is to design a deep neural network model trained to predict the Rating value of reviews."
      ],
      "metadata": {
        "id": "yvU0YYwtTp2g"
      }
    },
    {
      "cell_type": "code",
      "source": [
        "import pandas as pd\n",
        "from google.colab import drive\n",
        "import numpy as np\n",
        "import pandas as pd\n",
        "from sklearn.model_selection import train_test_split\n",
        "from sklearn.feature_extraction.text import CountVectorizer\n",
        "from keras.models import Sequential\n",
        "from keras.utils import to_categorical\n",
        "from keras.models import Model\n",
        "from keras.layers import Input, Dense, Dropout, BatchNormalization\n",
        "from tensorflow.keras.initializers import he_normal\n",
        "from tensorflow.keras.optimizers import Adam\n",
        "from tensorflow.keras.preprocessing.text import Tokenizer\n",
        "from tensorflow.keras.preprocessing.sequence import pad_sequences\n",
        "from tensorflow.keras.utils import to_categorical\n",
        "from matplotlib import pyplot as plt\n",
        "from sklearn.metrics import classification_report\n",
        "import nltk\n",
        "nltk.download('stopwords')\n",
        "nltk.download('wordnet')\n",
        "import re\n",
        "from nltk.corpus import stopwords\n",
        "from nltk.stem import WordNetLemmatizer\n",
        "from keras.preprocessing.text import Tokenizer\n",
        "from keras.preprocessing.sequence import pad_sequences\n"
      ],
      "metadata": {
        "id": "X7fVn8uKUy4x",
        "colab": {
          "base_uri": "https://localhost:8080/"
        },
        "outputId": "4c2e698d-45a6-47bf-ab4a-7c81095585c0"
      },
      "execution_count": null,
      "outputs": [
        {
          "output_type": "stream",
          "name": "stderr",
          "text": [
            "[nltk_data] Downloading package stopwords to /root/nltk_data...\n",
            "[nltk_data]   Package stopwords is already up-to-date!\n",
            "[nltk_data] Downloading package wordnet to /root/nltk_data...\n",
            "[nltk_data]   Package wordnet is already up-to-date!\n"
          ]
        }
      ]
    },
    {
      "cell_type": "code",
      "source": [
        "shared_link = 'https://drive.google.com/file/d/1ltl0n-tBzMTrUVaB-eN_g9vmTgEDE7wL/view?usp=share_link'\n",
        "file_id = shared_link.split('/')[-2]\n",
        "# Extract the file ID from the shared link\n",
        "download_link = f'https://drive.google.com/uc?id={file_id}'\n",
        "data = pd.read_csv(download_link, encoding='latin-1')"
      ],
      "metadata": {
        "id": "Bb3QeEDvTEgN"
      },
      "execution_count": null,
      "outputs": []
    },
    {
      "cell_type": "code",
      "source": [
        "print(data.head())"
      ],
      "metadata": {
        "id": "9HChL6TFTbYp",
        "colab": {
          "base_uri": "https://localhost:8080/"
        },
        "outputId": "9ac47840-0c66-4775-888b-28305d1d8372"
      },
      "execution_count": null,
      "outputs": [
        {
          "output_type": "stream",
          "name": "stdout",
          "text": [
            "   Review_ID  Rating Year_Month     Reviewer_Location  \\\n",
            "0  670772142       4     2019-4             Australia   \n",
            "1  670682799       4     2019-5           Philippines   \n",
            "2  670623270       4     2019-4  United Arab Emirates   \n",
            "3  670607911       4     2019-4             Australia   \n",
            "4  670607296       4     2019-4        United Kingdom   \n",
            "\n",
            "                                         Review_Text               Branch  \n",
            "0  If you've ever been to Disneyland anywhere you...  Disneyland_HongKong  \n",
            "1  Its been a while since d last time we visit HK...  Disneyland_HongKong  \n",
            "2  Thanks God it wasn   t too hot or too humid wh...  Disneyland_HongKong  \n",
            "3  HK Disneyland is a great compact park. Unfortu...  Disneyland_HongKong  \n",
            "4  the location is not in the city, took around 1...  Disneyland_HongKong  \n"
          ]
        }
      ]
    },
    {
      "cell_type": "markdown",
      "source": [
        "1) Fields to use\n",
        "\n",
        "Although other fields may potentially have a significant impact on the rating, I have made the decision to focus solely on the text reviews.\n"
      ],
      "metadata": {
        "id": "VRz7c79QzZ6A"
      }
    },
    {
      "cell_type": "code",
      "source": [
        "columns_to_drop = ['Review_ID', 'Year_Month', 'Reviewer_Location', 'Branch']\n",
        "data = data.drop(columns_to_drop, axis=1) #dropping the unnecessary columns and keeping only the textReviews and the ratings"
      ],
      "metadata": {
        "id": "LuAZ32hVT0CW"
      },
      "execution_count": null,
      "outputs": []
    },
    {
      "cell_type": "code",
      "source": [
        "data #Visualizing the data"
      ],
      "metadata": {
        "id": "v-HXvUYzT6_-",
        "colab": {
          "base_uri": "https://localhost:8080/",
          "height": 419
        },
        "outputId": "8d3eccf5-6462-469a-d3d0-2349b08c64e0"
      },
      "execution_count": null,
      "outputs": [
        {
          "output_type": "execute_result",
          "data": {
            "text/plain": [
              "       Rating                                        Review_Text\n",
              "0           4  If you've ever been to Disneyland anywhere you...\n",
              "1           4  Its been a while since d last time we visit HK...\n",
              "2           4  Thanks God it wasn   t too hot or too humid wh...\n",
              "3           4  HK Disneyland is a great compact park. Unfortu...\n",
              "4           4  the location is not in the city, took around 1...\n",
              "...       ...                                                ...\n",
              "42651       5  i went to disneyland paris in july 03 and thou...\n",
              "42652       5  2 adults and 1 child of 11 visited Disneyland ...\n",
              "42653       5  My eleven year old daughter and myself went to...\n",
              "42654       4  This hotel, part of the Disneyland Paris compl...\n",
              "42655       4  I went to the Disneyparis resort, in 1996, wit...\n",
              "\n",
              "[42656 rows x 2 columns]"
            ],
            "text/html": [
              "\n",
              "  <div id=\"df-fe335a74-4eb1-4935-8a0f-8469830ab08b\" class=\"colab-df-container\">\n",
              "    <div>\n",
              "<style scoped>\n",
              "    .dataframe tbody tr th:only-of-type {\n",
              "        vertical-align: middle;\n",
              "    }\n",
              "\n",
              "    .dataframe tbody tr th {\n",
              "        vertical-align: top;\n",
              "    }\n",
              "\n",
              "    .dataframe thead th {\n",
              "        text-align: right;\n",
              "    }\n",
              "</style>\n",
              "<table border=\"1\" class=\"dataframe\">\n",
              "  <thead>\n",
              "    <tr style=\"text-align: right;\">\n",
              "      <th></th>\n",
              "      <th>Rating</th>\n",
              "      <th>Review_Text</th>\n",
              "    </tr>\n",
              "  </thead>\n",
              "  <tbody>\n",
              "    <tr>\n",
              "      <th>0</th>\n",
              "      <td>4</td>\n",
              "      <td>If you've ever been to Disneyland anywhere you...</td>\n",
              "    </tr>\n",
              "    <tr>\n",
              "      <th>1</th>\n",
              "      <td>4</td>\n",
              "      <td>Its been a while since d last time we visit HK...</td>\n",
              "    </tr>\n",
              "    <tr>\n",
              "      <th>2</th>\n",
              "      <td>4</td>\n",
              "      <td>Thanks God it wasn   t too hot or too humid wh...</td>\n",
              "    </tr>\n",
              "    <tr>\n",
              "      <th>3</th>\n",
              "      <td>4</td>\n",
              "      <td>HK Disneyland is a great compact park. Unfortu...</td>\n",
              "    </tr>\n",
              "    <tr>\n",
              "      <th>4</th>\n",
              "      <td>4</td>\n",
              "      <td>the location is not in the city, took around 1...</td>\n",
              "    </tr>\n",
              "    <tr>\n",
              "      <th>...</th>\n",
              "      <td>...</td>\n",
              "      <td>...</td>\n",
              "    </tr>\n",
              "    <tr>\n",
              "      <th>42651</th>\n",
              "      <td>5</td>\n",
              "      <td>i went to disneyland paris in july 03 and thou...</td>\n",
              "    </tr>\n",
              "    <tr>\n",
              "      <th>42652</th>\n",
              "      <td>5</td>\n",
              "      <td>2 adults and 1 child of 11 visited Disneyland ...</td>\n",
              "    </tr>\n",
              "    <tr>\n",
              "      <th>42653</th>\n",
              "      <td>5</td>\n",
              "      <td>My eleven year old daughter and myself went to...</td>\n",
              "    </tr>\n",
              "    <tr>\n",
              "      <th>42654</th>\n",
              "      <td>4</td>\n",
              "      <td>This hotel, part of the Disneyland Paris compl...</td>\n",
              "    </tr>\n",
              "    <tr>\n",
              "      <th>42655</th>\n",
              "      <td>4</td>\n",
              "      <td>I went to the Disneyparis resort, in 1996, wit...</td>\n",
              "    </tr>\n",
              "  </tbody>\n",
              "</table>\n",
              "<p>42656 rows × 2 columns</p>\n",
              "</div>\n",
              "    <div class=\"colab-df-buttons\">\n",
              "\n",
              "  <div class=\"colab-df-container\">\n",
              "    <button class=\"colab-df-convert\" onclick=\"convertToInteractive('df-fe335a74-4eb1-4935-8a0f-8469830ab08b')\"\n",
              "            title=\"Convert this dataframe to an interactive table.\"\n",
              "            style=\"display:none;\">\n",
              "\n",
              "  <svg xmlns=\"http://www.w3.org/2000/svg\" height=\"24px\" viewBox=\"0 -960 960 960\">\n",
              "    <path d=\"M120-120v-720h720v720H120Zm60-500h600v-160H180v160Zm220 220h160v-160H400v160Zm0 220h160v-160H400v160ZM180-400h160v-160H180v160Zm440 0h160v-160H620v160ZM180-180h160v-160H180v160Zm440 0h160v-160H620v160Z\"/>\n",
              "  </svg>\n",
              "    </button>\n",
              "\n",
              "  <style>\n",
              "    .colab-df-container {\n",
              "      display:flex;\n",
              "      gap: 12px;\n",
              "    }\n",
              "\n",
              "    .colab-df-convert {\n",
              "      background-color: #E8F0FE;\n",
              "      border: none;\n",
              "      border-radius: 50%;\n",
              "      cursor: pointer;\n",
              "      display: none;\n",
              "      fill: #1967D2;\n",
              "      height: 32px;\n",
              "      padding: 0 0 0 0;\n",
              "      width: 32px;\n",
              "    }\n",
              "\n",
              "    .colab-df-convert:hover {\n",
              "      background-color: #E2EBFA;\n",
              "      box-shadow: 0px 1px 2px rgba(60, 64, 67, 0.3), 0px 1px 3px 1px rgba(60, 64, 67, 0.15);\n",
              "      fill: #174EA6;\n",
              "    }\n",
              "\n",
              "    .colab-df-buttons div {\n",
              "      margin-bottom: 4px;\n",
              "    }\n",
              "\n",
              "    [theme=dark] .colab-df-convert {\n",
              "      background-color: #3B4455;\n",
              "      fill: #D2E3FC;\n",
              "    }\n",
              "\n",
              "    [theme=dark] .colab-df-convert:hover {\n",
              "      background-color: #434B5C;\n",
              "      box-shadow: 0px 1px 3px 1px rgba(0, 0, 0, 0.15);\n",
              "      filter: drop-shadow(0px 1px 2px rgba(0, 0, 0, 0.3));\n",
              "      fill: #FFFFFF;\n",
              "    }\n",
              "  </style>\n",
              "\n",
              "    <script>\n",
              "      const buttonEl =\n",
              "        document.querySelector('#df-fe335a74-4eb1-4935-8a0f-8469830ab08b button.colab-df-convert');\n",
              "      buttonEl.style.display =\n",
              "        google.colab.kernel.accessAllowed ? 'block' : 'none';\n",
              "\n",
              "      async function convertToInteractive(key) {\n",
              "        const element = document.querySelector('#df-fe335a74-4eb1-4935-8a0f-8469830ab08b');\n",
              "        const dataTable =\n",
              "          await google.colab.kernel.invokeFunction('convertToInteractive',\n",
              "                                                    [key], {});\n",
              "        if (!dataTable) return;\n",
              "\n",
              "        const docLinkHtml = 'Like what you see? Visit the ' +\n",
              "          '<a target=\"_blank\" href=https://colab.research.google.com/notebooks/data_table.ipynb>data table notebook</a>'\n",
              "          + ' to learn more about interactive tables.';\n",
              "        element.innerHTML = '';\n",
              "        dataTable['output_type'] = 'display_data';\n",
              "        await google.colab.output.renderOutput(dataTable, element);\n",
              "        const docLink = document.createElement('div');\n",
              "        docLink.innerHTML = docLinkHtml;\n",
              "        element.appendChild(docLink);\n",
              "      }\n",
              "    </script>\n",
              "  </div>\n",
              "\n",
              "\n",
              "<div id=\"df-ade367c4-af91-4fea-8624-8cccbc0ebd34\">\n",
              "  <button class=\"colab-df-quickchart\" onclick=\"quickchart('df-ade367c4-af91-4fea-8624-8cccbc0ebd34')\"\n",
              "            title=\"Suggest charts\"\n",
              "            style=\"display:none;\">\n",
              "\n",
              "<svg xmlns=\"http://www.w3.org/2000/svg\" height=\"24px\"viewBox=\"0 0 24 24\"\n",
              "     width=\"24px\">\n",
              "    <g>\n",
              "        <path d=\"M19 3H5c-1.1 0-2 .9-2 2v14c0 1.1.9 2 2 2h14c1.1 0 2-.9 2-2V5c0-1.1-.9-2-2-2zM9 17H7v-7h2v7zm4 0h-2V7h2v10zm4 0h-2v-4h2v4z\"/>\n",
              "    </g>\n",
              "</svg>\n",
              "  </button>\n",
              "\n",
              "<style>\n",
              "  .colab-df-quickchart {\n",
              "      --bg-color: #E8F0FE;\n",
              "      --fill-color: #1967D2;\n",
              "      --hover-bg-color: #E2EBFA;\n",
              "      --hover-fill-color: #174EA6;\n",
              "      --disabled-fill-color: #AAA;\n",
              "      --disabled-bg-color: #DDD;\n",
              "  }\n",
              "\n",
              "  [theme=dark] .colab-df-quickchart {\n",
              "      --bg-color: #3B4455;\n",
              "      --fill-color: #D2E3FC;\n",
              "      --hover-bg-color: #434B5C;\n",
              "      --hover-fill-color: #FFFFFF;\n",
              "      --disabled-bg-color: #3B4455;\n",
              "      --disabled-fill-color: #666;\n",
              "  }\n",
              "\n",
              "  .colab-df-quickchart {\n",
              "    background-color: var(--bg-color);\n",
              "    border: none;\n",
              "    border-radius: 50%;\n",
              "    cursor: pointer;\n",
              "    display: none;\n",
              "    fill: var(--fill-color);\n",
              "    height: 32px;\n",
              "    padding: 0;\n",
              "    width: 32px;\n",
              "  }\n",
              "\n",
              "  .colab-df-quickchart:hover {\n",
              "    background-color: var(--hover-bg-color);\n",
              "    box-shadow: 0 1px 2px rgba(60, 64, 67, 0.3), 0 1px 3px 1px rgba(60, 64, 67, 0.15);\n",
              "    fill: var(--button-hover-fill-color);\n",
              "  }\n",
              "\n",
              "  .colab-df-quickchart-complete:disabled,\n",
              "  .colab-df-quickchart-complete:disabled:hover {\n",
              "    background-color: var(--disabled-bg-color);\n",
              "    fill: var(--disabled-fill-color);\n",
              "    box-shadow: none;\n",
              "  }\n",
              "\n",
              "  .colab-df-spinner {\n",
              "    border: 2px solid var(--fill-color);\n",
              "    border-color: transparent;\n",
              "    border-bottom-color: var(--fill-color);\n",
              "    animation:\n",
              "      spin 1s steps(1) infinite;\n",
              "  }\n",
              "\n",
              "  @keyframes spin {\n",
              "    0% {\n",
              "      border-color: transparent;\n",
              "      border-bottom-color: var(--fill-color);\n",
              "      border-left-color: var(--fill-color);\n",
              "    }\n",
              "    20% {\n",
              "      border-color: transparent;\n",
              "      border-left-color: var(--fill-color);\n",
              "      border-top-color: var(--fill-color);\n",
              "    }\n",
              "    30% {\n",
              "      border-color: transparent;\n",
              "      border-left-color: var(--fill-color);\n",
              "      border-top-color: var(--fill-color);\n",
              "      border-right-color: var(--fill-color);\n",
              "    }\n",
              "    40% {\n",
              "      border-color: transparent;\n",
              "      border-right-color: var(--fill-color);\n",
              "      border-top-color: var(--fill-color);\n",
              "    }\n",
              "    60% {\n",
              "      border-color: transparent;\n",
              "      border-right-color: var(--fill-color);\n",
              "    }\n",
              "    80% {\n",
              "      border-color: transparent;\n",
              "      border-right-color: var(--fill-color);\n",
              "      border-bottom-color: var(--fill-color);\n",
              "    }\n",
              "    90% {\n",
              "      border-color: transparent;\n",
              "      border-bottom-color: var(--fill-color);\n",
              "    }\n",
              "  }\n",
              "</style>\n",
              "\n",
              "  <script>\n",
              "    async function quickchart(key) {\n",
              "      const quickchartButtonEl =\n",
              "        document.querySelector('#' + key + ' button');\n",
              "      quickchartButtonEl.disabled = true;  // To prevent multiple clicks.\n",
              "      quickchartButtonEl.classList.add('colab-df-spinner');\n",
              "      try {\n",
              "        const charts = await google.colab.kernel.invokeFunction(\n",
              "            'suggestCharts', [key], {});\n",
              "      } catch (error) {\n",
              "        console.error('Error during call to suggestCharts:', error);\n",
              "      }\n",
              "      quickchartButtonEl.classList.remove('colab-df-spinner');\n",
              "      quickchartButtonEl.classList.add('colab-df-quickchart-complete');\n",
              "    }\n",
              "    (() => {\n",
              "      let quickchartButtonEl =\n",
              "        document.querySelector('#df-ade367c4-af91-4fea-8624-8cccbc0ebd34 button');\n",
              "      quickchartButtonEl.style.display =\n",
              "        google.colab.kernel.accessAllowed ? 'block' : 'none';\n",
              "    })();\n",
              "  </script>\n",
              "</div>\n",
              "    </div>\n",
              "  </div>\n"
            ]
          },
          "metadata": {},
          "execution_count": 148
        }
      ]
    },
    {
      "cell_type": "markdown",
      "source": [
        " The smaller subset will not fully capture the patterns and variations present in the complete dataset, leading to incomplete training."
      ],
      "metadata": {
        "id": "MEJaA3ap0gQy"
      }
    },
    {
      "cell_type": "code",
      "source": [
        "subset_size = 500 #setting a small subset bcs the dimension of my data encoding was exhausting the available RAM\n",
        "data = data.head(subset_size)"
      ],
      "metadata": {
        "id": "aFZGF8CAJ-ZQ"
      },
      "execution_count": null,
      "outputs": []
    },
    {
      "cell_type": "markdown",
      "source": [
        "Pre-processing"
      ],
      "metadata": {
        "id": "HiFG7BQmsdZm"
      }
    },
    {
      "cell_type": "code",
      "source": [
        "# Preprocess your target variable to 5 classes\n",
        "data['Rating'] = data['Rating'].astype(int)  # Ensure ratings are integers\n",
        "data['Rating'] -= 1  # Shift the ratings from 1-5 to 0-4"
      ],
      "metadata": {
        "colab": {
          "base_uri": "https://localhost:8080/"
        },
        "id": "WBhets2wy4rF",
        "outputId": "5fd29277-8856-4bf4-8355-97723d5cb52c"
      },
      "execution_count": null,
      "outputs": [
        {
          "output_type": "stream",
          "name": "stderr",
          "text": [
            "<ipython-input-150-d3bbe229db69>:2: SettingWithCopyWarning: \n",
            "A value is trying to be set on a copy of a slice from a DataFrame.\n",
            "Try using .loc[row_indexer,col_indexer] = value instead\n",
            "\n",
            "See the caveats in the documentation: https://pandas.pydata.org/pandas-docs/stable/user_guide/indexing.html#returning-a-view-versus-a-copy\n",
            "  data['Rating'] = data['Rating'].astype(int)  # Ensure ratings are integers\n",
            "<ipython-input-150-d3bbe229db69>:3: SettingWithCopyWarning: \n",
            "A value is trying to be set on a copy of a slice from a DataFrame.\n",
            "Try using .loc[row_indexer,col_indexer] = value instead\n",
            "\n",
            "See the caveats in the documentation: https://pandas.pydata.org/pandas-docs/stable/user_guide/indexing.html#returning-a-view-versus-a-copy\n",
            "  data['Rating'] -= 1  # Shift the ratings from 1-5 to 0-4\n"
          ]
        }
      ]
    },
    {
      "cell_type": "code",
      "source": [
        "# First I Defined a function for text pre-processing\n",
        "def preprocess_text(text):\n",
        "    text = text.lower()   # Lowercasing the text\n",
        "    text = re.sub(r'[^\\w\\s]', '', text) # Removing the punctuation and special characters\n",
        "    tokens = text.split()# Tokenize the text\n",
        "    stop_words = set(stopwords.words('english')) # Removing stop words\n",
        "    tokens = [word for word in tokens if word not in stop_words]\n",
        "    lemmatizer = WordNetLemmatizer()  # Lemmatizing the words\n",
        "    tokens = [lemmatizer.lemmatize(word) for word in tokens]\n",
        "    return ' '.join(tokens)\n",
        "\n",
        "# Applying text pre-processing to the review text\n",
        "data['Review_Text'] = data['Review_Text'].apply(preprocess_text)\n",
        "\n",
        "# Tokenizing the pre-processed text\n",
        "tokenizer = Tokenizer(num_words=10000)\n",
        "tokenizer.fit_on_texts(data['Review_Text'])\n",
        "text_sequences = tokenizer.texts_to_sequences(data['Review_Text']) #converting the text reviews into sequences of integers\n",
        "max_sequence_length = max(len(seq) for seq in text_sequences)# Define a maximum sequence length\n",
        "X = pad_sequences(text_sequences, maxlen=max_sequence_length)#to ensure that all sequences have the same length\n"
      ],
      "metadata": {
        "colab": {
          "base_uri": "https://localhost:8080/"
        },
        "id": "6g669L4An4h1",
        "outputId": "d1577fed-d950-4df0-ae80-7613fab8b5f3"
      },
      "execution_count": null,
      "outputs": [
        {
          "output_type": "stream",
          "name": "stderr",
          "text": [
            "<ipython-input-151-08ef191b04fa>:13: SettingWithCopyWarning: \n",
            "A value is trying to be set on a copy of a slice from a DataFrame.\n",
            "Try using .loc[row_indexer,col_indexer] = value instead\n",
            "\n",
            "See the caveats in the documentation: https://pandas.pydata.org/pandas-docs/stable/user_guide/indexing.html#returning-a-view-versus-a-copy\n",
            "  data['Review_Text'] = data['Review_Text'].apply(preprocess_text)\n"
          ]
        }
      ]
    },
    {
      "cell_type": "markdown",
      "source": [
        "Creating the RNN model for sentiment analysis"
      ],
      "metadata": {
        "id": "R2W7rdU3pcQg"
      }
    },
    {
      "cell_type": "code",
      "source": [
        "# Splitting the data into training and testing sets\n",
        "X_train_sentiment, X_test_sentiment, y_train_sentiment, y_test_sentiment = train_test_split(X, data['Rating'], test_size=0.2, random_state=42)"
      ],
      "metadata": {
        "id": "AZ9UmtUIppxj"
      },
      "execution_count": null,
      "outputs": []
    },
    {
      "cell_type": "code",
      "source": [
        "from keras.layers import Embedding, LSTM\n",
        "rnn_model = Sequential()\n",
        "rnn_model.add(Embedding(input_dim=10000, output_dim=128, input_length=max_sequence_length))\n",
        "rnn_model.add(LSTM(64, return_sequences=False))\n",
        "rnn_model.add(Dropout(0.2))\n",
        "rnn_model.add(Dense(5, activation='softmax'))  # Multi-class sentiment classification with 5 classes\n",
        "rnn_model.compile(loss='categorical_crossentropy', optimizer='adam', metrics=['accuracy'])"
      ],
      "metadata": {
        "id": "T9IQj3Rcpb_q"
      },
      "execution_count": null,
      "outputs": []
    },
    {
      "cell_type": "code",
      "source": [
        "# Get the output of the RNN model as features\n",
        "rnn_features = rnn_model.predict(X)\n"
      ],
      "metadata": {
        "colab": {
          "base_uri": "https://localhost:8080/"
        },
        "id": "S4eUXx8FxSAG",
        "outputId": "63adee7e-a261-4b8b-844c-cf3386315397"
      },
      "execution_count": null,
      "outputs": [
        {
          "output_type": "stream",
          "name": "stdout",
          "text": [
            "16/16 [==============================] - 1s 50ms/step\n"
          ]
        }
      ]
    },
    {
      "cell_type": "markdown",
      "source": [
        "MLP model to predict the ratings"
      ],
      "metadata": {
        "id": "8AdGAoCvqG5J"
      }
    },
    {
      "cell_type": "markdown",
      "source": [
        "Converting the target variables to one-hot encoded vectors with 5 classes (indicating the 5 possible ratings) to represent categorical labels in a format suitable for the classification."
      ],
      "metadata": {
        "id": "FaS7_-XjAB5y"
      }
    },
    {
      "cell_type": "code",
      "source": [
        "# Split the data into train and test sets for rating prediction\n",
        "X_train_rating, X_test_rating, y_train_rating, y_test_rating = train_test_split(rnn_features, pd.get_dummies(data['Rating']).values, test_size=0.2, random_state=42)"
      ],
      "metadata": {
        "id": "WwXjLLaqTbWJ"
      },
      "execution_count": null,
      "outputs": []
    },
    {
      "cell_type": "code",
      "source": [
        "#defining the MLP model\n",
        "model =  Sequential()"
      ],
      "metadata": {
        "id": "x3yYqx1oBdJl"
      },
      "execution_count": null,
      "outputs": []
    },
    {
      "cell_type": "code",
      "source": [
        "#Input layer\n",
        "mlp_model.add(Dense(64, kernel_initializer='he_normal', input_shape=(rnn_features.shape[1],)))#number of neurons 64 equal to the dimensionality of the compressed data"
      ],
      "metadata": {
        "id": "f8o-fSKpBmVu"
      },
      "execution_count": null,
      "outputs": []
    },
    {
      "cell_type": "markdown",
      "source": [
        "Regularizers, initializers, normalizers\n",
        "\n",
        "I used dropout regularization to prevent overfitting by randomly dropping out a fraction of input units during training which helps improve the model's generalization ability by reducing reliance on specific features and forcing the network to learn more robust representations. He initialization as the weight initializer which helps alleviate the vanishing or exploding gradient problem with ReLU activation functions.And batch normalization after each hidden layer to normalize the activations within each batch."
      ],
      "metadata": {
        "id": "pq95NOIfKP6b"
      }
    },
    {
      "cell_type": "code",
      "source": [
        "#First hidden layer\n",
        "model.add(Dense(512, activation='relu', kernel_initializer='he_normal')) #starting with 512 neurons\n",
        "model.add(BatchNormalization())\n",
        "model.add(Dropout(0.2))"
      ],
      "metadata": {
        "id": "QxEolSu4CEnd"
      },
      "execution_count": null,
      "outputs": []
    },
    {
      "cell_type": "code",
      "source": [
        "#Second hidden layer\n",
        "model.add(Dense(256, activation='relu', kernel_initializer='he_normal')) #256 neurons\n",
        "model.add(BatchNormalization())\n",
        "model.add(Dropout(0.2))"
      ],
      "metadata": {
        "id": "WyoHN9kCCKr6"
      },
      "execution_count": null,
      "outputs": []
    },
    {
      "cell_type": "code",
      "source": [
        "#Third hidden layer\n",
        "model.add(Dense(128, activation='relu', kernel_initializer='he_normal')) #128 neurons\n",
        "model.add(BatchNormalization())\n",
        "model.add(Dropout(0.2))"
      ],
      "metadata": {
        "id": "_0I0gKxbgkIo"
      },
      "execution_count": null,
      "outputs": []
    },
    {
      "cell_type": "markdown",
      "source": [
        "ReLU helps introduce non-linearity and capture complex patterns in the data."
      ],
      "metadata": {
        "id": "apbxLmp3PcfX"
      }
    },
    {
      "cell_type": "code",
      "source": [
        "#The design of the output layer is the 5 neurons each corresponding to a rating value and a softmax activation function\n",
        "model.add(Dense(5, activation='softmax'))"
      ],
      "metadata": {
        "id": "l14vYbkWCOGV"
      },
      "execution_count": null,
      "outputs": []
    },
    {
      "cell_type": "markdown",
      "source": [
        "The softmax activation function is used to obtain a probability distribution over the five possible rating values, enabling the model to make predictions for each class."
      ],
      "metadata": {
        "id": "zhiPRo47IsDy"
      }
    },
    {
      "cell_type": "markdown",
      "source": [
        "The loss function is added in the code below as for the  activation functions, they are added to the individual layers of the MLP model during its construction in the code cells above.\n"
      ],
      "metadata": {
        "id": "RHE_LvvaHCnM"
      }
    },
    {
      "cell_type": "code",
      "source": [
        "model.compile(loss='categorical_crossentropy', optimizer=Adam(learning_rate=0.01), metrics=['accuracy'])"
      ],
      "metadata": {
        "id": "Z5hCSOnULiJW"
      },
      "execution_count": null,
      "outputs": []
    },
    {
      "cell_type": "code",
      "source": [
        "#Training the model\n",
        "train = True\n",
        "if train:\n",
        "    batch_size = 16 #number of samples to be used in each training batch\n",
        "    epochs = 15 #number of times the entire training dataset will be passed through the model during training\n",
        "    history = model.fit(X_train_rating, y_train_rating,\n",
        "                        epochs=epochs,\n",
        "                        batch_size=batch_size,\n",
        "                        shuffle=True,\n",
        "                        validation_data=(X_test_rating, y_test_rating))\n",
        "\n"
      ],
      "metadata": {
        "id": "J-7ErKbhL8gs",
        "colab": {
          "base_uri": "https://localhost:8080/"
        },
        "outputId": "89ddeeed-9fab-4ea1-f43a-b0b3c6012c39"
      },
      "execution_count": null,
      "outputs": [
        {
          "output_type": "stream",
          "name": "stdout",
          "text": [
            "Epoch 1/15\n"
          ]
        }
      ]
    },
    {
      "cell_type": "markdown",
      "source": [
        "Evaluation\n",
        "\n",
        "The classification report was generated to obtain the metrics I specified in my exam that offer insights into the model's performance on a per-class basis, helping identify any biases or discrepancies in predicting specific ratings.\n",
        "\n",
        "Then i added some visualizations such as the learning curves for both the accuracy and the loss that help gain insights into the model's generalization capabilities."
      ],
      "metadata": {
        "id": "Q2ZROv24MLXj"
      }
    },
    {
      "cell_type": "code",
      "source": [
        "# Predicting on the test data using the MLP model\n",
        "y_pred_rating = model.predict(X_test_rating)  # Use the correct model\n",
        "\n",
        "# Converting MLP model predictions to class labels\n",
        "y_pred_rating_labels = np.argmax(y_pred_rating, axis=1)\n",
        "y_true_rating_labels = np.argmax(y_test_rating, axis=1)\n",
        "\n",
        "# Incrementing by 1 to adjust the range from 0-4 to 1-5\n",
        "y_true_rating_labels = y_true_rating_labels + 1\n",
        "y_pred_rating_labels = y_pred_rating_labels + 1\n",
        "\n",
        "# Generating the classification report for rating prediction\n",
        "from sklearn.metrics import classification_report\n",
        "classification_rep_rating = classification_report(y_true_rating_labels, y_pred_rating_labels)\n",
        "print(\"Classification Report for Rating Prediction:\")\n",
        "print(classification_rep_rating)\n"
      ],
      "metadata": {
        "id": "uNm6VvKCNQ07"
      },
      "execution_count": null,
      "outputs": []
    },
    {
      "cell_type": "code",
      "source": [
        "#Plotting the learning curve for the accuracy for better visualization\n",
        "plt.plot(history.history['accuracy'])\n",
        "plt.plot(history.history['val_accuracy'])\n",
        "plt.title('model accuracy')\n",
        "plt.ylabel('accuracy')\n",
        "plt.xlabel('epoch')\n",
        "plt.legend(['train', 'test'], loc='upper left')\n",
        "plt.show()"
      ],
      "metadata": {
        "id": "QtU602eL1iRb"
      },
      "execution_count": null,
      "outputs": []
    },
    {
      "cell_type": "code",
      "source": [
        "#Plotting the learning curve for the loss\n",
        "plt.plot(history.history['loss'])\n",
        "plt.plot(history.history['val_loss'])\n",
        "plt.title('model loss')\n",
        "plt.ylabel('loss')\n",
        "plt.xlabel('epoch')\n",
        "plt.legend(['train', 'test'], loc='upper left')\n",
        "plt.show()"
      ],
      "metadata": {
        "id": "be1r0xg72ZE4"
      },
      "execution_count": null,
      "outputs": []
    },
    {
      "cell_type": "markdown",
      "source": [
        "However, it's important to note that the results obtained from evaluating the model on unseen data may not be entirely valid or representative due to the utilization of a very small subset of the available data so the evaluation results may not capture the full complexity and diversity present in the entire dataset."
      ],
      "metadata": {
        "id": "tnEACONf1mPp"
      }
    }
  ]
}